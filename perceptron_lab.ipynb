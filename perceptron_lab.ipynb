{
 "cells": [
  {
   "cell_type": "code",
   "execution_count": 815,
   "metadata": {},
   "outputs": [],
   "source": [
    "import numpy as np\n",
    "from sklearn.base import BaseEstimator, ClassifierMixin\n",
    "\n",
    "### NOTE: The only methods you are required to have are:\n",
    "#   * predict\n",
    "#   * fit\n",
    "#   * score\n",
    "#   * get_weights\n",
    "#   They must take at least the parameters below, exactly as specified. The output of\n",
    "#   get_weights must be in the same format as the example provided.\n",
    "\n",
    "class PerceptronClassifier(BaseEstimator,ClassifierMixin):\n",
    "\n",
    "    def __init__(self, lr=.1, shuffle=True, max_iter=1000):\n",
    "        \"\"\" Initialize class with chosen hyperparameters.\n",
    "        Args:\n",
    "            lr (float): A learning rate / step size.\n",
    "            shuffle: Whether to shuffle the training data each epoch. DO NOT SHUFFLE for evaluation / debug datasets.\n",
    "        \"\"\"\n",
    "        self.lr = lr\n",
    "        self.shuffle = shuffle\n",
    "        self.delta = None\n",
    "        self.deltas = []\n",
    "        self.iteration = 0\n",
    "        self.max_iter = max_iter\n",
    "\n",
    "    def fit(self, X, y, initial_weights=None, deterministic=False):\n",
    "        \"\"\" Fit the data; run the algorithm and adjust the weights to find a good solution\n",
    "        Args:\n",
    "            X (array-like): A 2D numpy array with the training data, excluding targets\n",
    "            y (array-like): A 2D numpy array with the training targets\n",
    "            initial_weights (array-like): allows the user to provide initial weights\n",
    "        Returns:\n",
    "            self: this allows this to be chained, e.g. model.fit(X,y).predict(X_test)\n",
    "        \"\"\"\n",
    "        self.initial_weights = self.initialize_weights(X) if not initial_weights else initial_weights\n",
    "        \n",
    "        self.weights = self.initial_weights.copy()\n",
    "        self.rates = []\n",
    "        if deterministic:\n",
    "            for i in range(deterministic):\n",
    "                self._epoch(X, y)\n",
    "                self.iteration += 1\n",
    "        else:\n",
    "            scale = max(np.abs(X).mean(axis=0)) * (X.shape[1] / 3)\n",
    "            eps = self.lr * scale\n",
    "            converged = True\n",
    "            for i in range(5):\n",
    "                self._epoch(X, y)\n",
    "                self.iteration += 1\n",
    "                self.rates.append(self.miscl_rate)\n",
    "            while np.linalg.norm(self.deltas) > eps:\n",
    "                self._epoch(X, y)\n",
    "                self.iteration += 1\n",
    "                self.rates.append(self.miscl_rate)\n",
    "                if self.iteration >= self.max_iter:\n",
    "                    converged = False\n",
    "                    break\n",
    "            if converged:\n",
    "                print(\"Classifer converged after {} iterations.\".format(self.iteration))\n",
    "            else:\n",
    "                print(\"Maximum number of iterations reached.\")\n",
    "        return self\n",
    "    \n",
    "    def _epoch(self, X, y):\n",
    "        \"\"\" \n",
    "        Run an epoch through the training dataset X, y\n",
    "        Args: \n",
    "            X (array-like): A 2D numpy array with the training data, excluding targets\n",
    "            y (array-like): A 2D numpy array with the training targets\n",
    "        \"\"\"\n",
    "        initial_weights = self.weights.copy()\n",
    "        self.miscl_rate = 0\n",
    "        if self.shuffle:\n",
    "            _X, _y = self._shuffle_data(X, y)\n",
    "        else:\n",
    "            _X, _y = X, y\n",
    "        for x,t in zip(_X, _y):\n",
    "            pattern = np.append(x, 1)\n",
    "            output = 0 if np.dot(self.weights, pattern) <= 0 else 1\n",
    "            self.weights += self.lr * (t[0] - output) * pattern\n",
    "            self.miscl_rate += int(t[0] == output)\n",
    "        self.miscl_rate /= len(y)\n",
    "        self.delta = max(np.abs(self.weights - initial_weights))\n",
    "        if len(self.deltas) < 5:\n",
    "            self.deltas.append(self.delta)\n",
    "        else:\n",
    "            self.deltas.pop(0)\n",
    "            self.deltas.append(self.delta)\n",
    "\n",
    "    def predict(self, X):\n",
    "        \"\"\" Predict all classes for a dataset X\n",
    "        Args:\n",
    "            X (array-like): A 2D numpy array with the training data, excluding targets\n",
    "        Returns:\n",
    "            array, shape (n_samples,)\n",
    "                Predicted target values per element in X.\n",
    "        \"\"\"\n",
    "        pred = []\n",
    "        for x in X:\n",
    "            pattern = np.append(x, 1)\n",
    "            output = 0 if np.dot(self.weights, pattern) <= 0 else 1\n",
    "            pred.append(output)\n",
    "        return np.array(pred).reshape(-1, 1)\n",
    "\n",
    "    def initialize_weights(self, X):\n",
    "        \"\"\" Initialize weights for perceptron. Don't forget the bias!\n",
    "        Returns:\n",
    "        \"\"\"\n",
    "\n",
    "        return np.zeros(X.shape[1] + 1)\n",
    "\n",
    "    def score(self, X, y):\n",
    "        \"\"\" Return accuracy of model on a given dataset. Must implement own score function.\n",
    "        Args:\n",
    "            X (array-like): A 2D numpy array with data, excluding targets\n",
    "            y (array-like): A 2D numpy array with targets\n",
    "        Returns:\n",
    "            score : float\n",
    "                Mean accuracy of self.predict(X) wrt. y.\n",
    "        \"\"\"\n",
    "        pred = self.predict(X)\n",
    "        return sum(pred==y)[0] / len(y)\n",
    "\n",
    "    def _shuffle_data(self, X, y):\n",
    "        \"\"\" Shuffle the data! This _ prefix suggests that this method should only be called internally.\n",
    "            It might be easier to concatenate X & y and shuffle a single 2D array, rather than\n",
    "             shuffling X and y exactly the same way, independently.\n",
    "        \"\"\"\n",
    "        Xy = np.hstack([X, y])\n",
    "        np.random.shuffle(Xy)\n",
    "        return Xy[:, :-1], Xy[:, -1].reshape(-1, 1)\n",
    "\n",
    "    ### Not required by sk-learn but required by us for grading. Returns the weights.\n",
    "    def get_weights(self):\n",
    "        return self.weights\n",
    "\n",
    "def train_test_split(X, y, train_size=0.7, shuffle=True):\n",
    "    \"\"\"Split the data into train and test sets\n",
    "    Args:\n",
    "        X (array-like): A 2D numpy array with the training data, excluding targets\n",
    "        y (array-like): A 2D numpy array with the training targets\n",
    "        train_size (float): Percentage of the data that will be used for training;\n",
    "            Test size is automatically set to 1 - train_size\n",
    "        shuffle (bool): Whether to shuffle the dataset or not\n",
    "    Returns:\n",
    "        X_train (array-like): A 2D numpy array with the inputs of the training data\n",
    "        y_train (array-like): A 2D numpy array with the targets of the training data\n",
    "        X_test (array-like): A 2D numpy array with the inputs of the test data\n",
    "        y_test (array-like): A 2D numpy array with the targets of the test data\n",
    "    \"\"\"\n",
    "    split = int(train_size * X.shape[0])\n",
    "    Xy = np.hstack([X, y])\n",
    "    if shuffle:\n",
    "        np.random.shuffle(Xy)\n",
    "    Xy_train = Xy[:split]\n",
    "    Xy_test = Xy[split:]\n",
    "    return Xy_train[:,:-1], Xy_train[:,-1].reshape(-1, 1), \\\n",
    "           Xy_test[:,:-1], Xy_test[:,-1].reshape(-1, 1)\n",
    "    "
   ]
  },
  {
   "cell_type": "code",
   "execution_count": 414,
   "metadata": {},
   "outputs": [],
   "source": [
    "from scipy.io import arff\n",
    "import numpy as np\n",
    "import matplotlib.pyplot as plt"
   ]
  },
  {
   "cell_type": "markdown",
   "metadata": {},
   "source": [
    "# Debug dataset"
   ]
  },
  {
   "cell_type": "code",
   "execution_count": 770,
   "metadata": {},
   "outputs": [
    {
     "name": "stdout",
     "output_type": "stream",
     "text": [
      "[(-0.4,  0.3, b'1') (-0.3,  0.8, b'1') (-0.2,  0.3, b'1')\n",
      " (-0.1,  0.9, b'1') (-0.1,  0.1, b'0') ( 0. , -0.2, b'0')\n",
      " ( 0.1,  0.2, b'0') ( 0.2, -0.2, b'0')]\n",
      "Dataset: linSep2nonorigin\n",
      "\ta1's type is numeric\n",
      "\ta2's type is numeric\n",
      "\tclass's type is nominal, range is ('0', '1')\n",
      "\n",
      "Final weights: [-0.23  0.18 -0.1 ]\n",
      "Accuracy: 0.88\n"
     ]
    },
    {
     "data": {
      "image/png": "[encoded data removed]",
      "text/plain": [
       "<Figure size 432x288 with 1 Axes>"
      ]
     },
     "metadata": {},
     "output_type": "display_data"
    }
   ],
   "source": [
    "data, meta = arff.loadarff(\"linsep2nonorigin.arff\")\n",
    "print(data)\n",
    "print(meta)\n",
    "X = np.stack([data['a1'], data['a2']]).T\n",
    "y_a = data['class'].astype(int)\n",
    "y = y_a.reshape(-1, 1)\n",
    "perceptron = PerceptronClassifier(lr=.1, shuffle=False)\n",
    "perceptron.fit(X, y, deterministic=10)\n",
    "w = perceptron.get_weights()\n",
    "acc = perceptron.score(X, y)\n",
    "print(\"Final weights: {}\".format(w))\n",
    "print(\"Accuracy: {:.2f}\".format(acc))\n",
    "plt.scatter(X[:,0][y_a==0], X[:,1][y_a==0], label='0')\n",
    "plt.scatter(X[:,0][y_a==1], X[:,1][y_a==1], label='1')\n",
    "domain = np.linspace(-0.4, 0.2, 10)\n",
    "plt.plot(domain, -w[0]/w[1] * domain - w[2]/w[1])\n",
    "plt.xlabel(\"x1\")\n",
    "plt.ylabel(\"x2\")\n",
    "plt.title(\"Debug dataset\")\n",
    "plt.legend()\n",
    "plt.show()"
   ]
  },
  {
   "cell_type": "markdown",
   "metadata": {},
   "source": [
    "# Evaluation dataset"
   ]
  },
  {
   "cell_type": "code",
   "execution_count": 771,
   "metadata": {},
   "outputs": [
    {
     "name": "stdout",
     "output_type": "stream",
     "text": [
      "[( 3.6216,   8.6661 , -2.8073, -0.44699, b'0')\n",
      " ( 4.5459,   8.1674 , -2.4586, -1.4621 , b'0')\n",
      " ( 3.866 ,  -2.6383 ,  1.9242,  0.10645, b'0') ...\n",
      " (-3.7503, -13.4586 , 17.5932, -2.7771 , b'1')\n",
      " (-3.5637,  -8.3827 , 12.393 , -1.2823 , b'1')\n",
      " (-2.5419,  -0.65804,  2.6842,  1.1952 , b'1')]\n",
      "Dataset: Banknote_Authenitication\n",
      "\tvariance_wavelet's type is numeric\n",
      "\tskewness_wavelet's type is numeric\n",
      "\tcurtosis_wavelet's type is numeric\n",
      "\tentropy_wavelet's type is numeric\n",
      "\tclass's type is nominal, range is ('0', '1')\n",
      "\n",
      "(1372, 4) (1372, 1)\n",
      "Final weights: [-3.80657242 -2.840821   -3.0719334  -1.4003906   4.9       ]\n",
      "Accuracy: 0.99\n"
     ]
    }
   ],
   "source": [
    "data, meta = arff.loadarff(\"data_banknote_authentication.arff\")\n",
    "print(data)\n",
    "print(meta)\n",
    "fields = []\n",
    "for n in data.dtype.fields.items():\n",
    "    fields.append(n[0])\n",
    "X = np.stack([data[f] for f in fields[:-1]]).T\n",
    "y = data[fields[-1]].astype(int).reshape(-1, 1)\n",
    "print(X.shape, y.shape)\n",
    "perceptron = PerceptronClassifier(lr=0.1, shuffle=False)\n",
    "perceptron.fit(X, y, deterministic=10)\n",
    "w = perceptron.get_weights()\n",
    "acc = perceptron.score(X, y)\n",
    "print(\"Final weights: {}\".format(w))\n",
    "print(\"Accuracy: {:.2f}\".format(acc))"
   ]
  },
  {
   "cell_type": "markdown",
   "metadata": {},
   "source": [
    "# Linearly separable dataset"
   ]
  },
  {
   "cell_type": "code",
   "execution_count": 354,
   "metadata": {},
   "outputs": [],
   "source": [
    "X = np.random.uniform(-1, 1, size=(8,2))"
   ]
  },
  {
   "cell_type": "code",
   "execution_count": 357,
   "metadata": {},
   "outputs": [
    {
     "name": "stdout",
     "output_type": "stream",
     "text": [
      "[[ 0.19741597 -0.87408212]\n",
      " [ 0.77847305 -0.35361788]\n",
      " [ 0.97622759 -0.27068389]\n",
      " [ 0.05865783 -0.82223101]\n",
      " [-0.19563794 -0.3737767 ]\n",
      " [ 0.01940362  0.42199833]\n",
      " [-0.91932312  0.85053846]\n",
      " [ 0.20271421  0.90344603]]\n"
     ]
    },
    {
     "data": {
      "image/png": "[encoded data removed]",
      "text/plain": [
       "<Figure size 432x288 with 1 Axes>"
      ]
     },
     "metadata": {},
     "output_type": "display_data"
    }
   ],
   "source": [
    "print(X)\n",
    "y_a = np.array([0, 0, 0, 0, 1, 1, 1, 1])\n",
    "y = y_a.reshape(-1, 1)\n",
    "plt.scatter(X[:, 0][y_a==0], X[:, 1][y_a==0], label=0)\n",
    "plt.scatter(X[:, 0][y_a==1], X[:, 1][y_a==1], label=1)\n",
    "plt.legend()\n",
    "plt.show()"
   ]
  },
  {
   "cell_type": "code",
   "execution_count": 772,
   "metadata": {},
   "outputs": [
    {
     "name": "stdout",
     "output_type": "stream",
     "text": [
      "[( 0.19741597, -0.87408212, b'0') ( 0.77847305, -0.35361788, b'0')\n",
      " ( 0.97622759, -0.27068389, b'0') ( 0.05865783, -0.82223101, b'0')\n",
      " (-0.19563794, -0.3737767 , b'1') ( 0.01940362,  0.42199833, b'1')\n",
      " (-0.91932312,  0.85053846, b'1') ( 0.20271421,  0.90344603, b'1')]\n",
      "Dataset: separable\n",
      "\ta1's type is numeric\n",
      "\ta2's type is numeric\n",
      "\tclass's type is nominal, range is ('0', '1')\n",
      "\n",
      "Classifer converged after 7 iterations.\n",
      "Final weights: [-1.4261613e-06  3.4536150e-07  0.0000000e+00]\n",
      "Accuracy: 1.00\n"
     ]
    },
    {
     "data": {
      "image/png": "[encoded data removed]",
      "text/plain": [
       "<Figure size 432x288 with 1 Axes>"
      ]
     },
     "metadata": {},
     "output_type": "display_data"
    }
   ],
   "source": [
    "data, meta = arff.loadarff(\"separable.arff\")\n",
    "print(data)\n",
    "print(meta)\n",
    "X = np.stack([data['a1'], data['a2']]).T\n",
    "y_a = data['class'].astype(int)\n",
    "y = y_a.reshape(-1, 1)\n",
    "perceptron = PerceptronClassifier(lr=.000001, shuffle=True)\n",
    "perceptron.fit(X, y)\n",
    "w = perceptron.get_weights()\n",
    "acc = perceptron.score(X, y)\n",
    "print(\"Final weights: {}\".format(w))\n",
    "print(\"Accuracy: {:.2f}\".format(acc))\n",
    "plt.scatter(X[:,0][y_a==0], X[:,1][y_a==0], label='0')\n",
    "plt.scatter(X[:,0][y_a==1], X[:,1][y_a==1], label='1')\n",
    "domain = np.linspace(-1, 1, 10)\n",
    "plt.plot(domain, -w[0]/w[1] * domain - w[2]/w[1])\n",
    "plt.legend()\n",
    "plt.xlabel(\"x1\")\n",
    "plt.ylabel(\"x2\")\n",
    "plt.title(\"Linearly Separable Dataset\")\n",
    "plt.show()"
   ]
  },
  {
   "cell_type": "code",
   "execution_count": 363,
   "metadata": {},
   "outputs": [
    {
     "name": "stdout",
     "output_type": "stream",
     "text": [
      "Classifer converged after 9 iterations.\n",
      "Classifer converged after 10 iterations.\n",
      "Classifer converged after 7 iterations.\n",
      "Classifer converged after 7 iterations.\n",
      "Classifer converged after 8 iterations.\n"
     ]
    }
   ],
   "source": [
    "for i in range(5):\n",
    "    perceptron = PerceptronClassifier(lr=10**(-i), shuffle=True)\n",
    "    perceptron.fit(X, y)"
   ]
  },
  {
   "cell_type": "markdown",
   "metadata": {},
   "source": [
    "# Non-separable dataset"
   ]
  },
  {
   "cell_type": "code",
   "execution_count": 366,
   "metadata": {},
   "outputs": [
    {
     "data": {
      "image/png": "[encoded data removed]",
      "text/plain": [
       "<Figure size 432x288 with 1 Axes>"
      ]
     },
     "metadata": {},
     "output_type": "display_data"
    },
    {
     "name": "stdout",
     "output_type": "stream",
     "text": [
      "[[-0.09198194  0.0981303 ]\n",
      " [ 0.93617818 -0.13420586]\n",
      " [ 0.02919202 -0.0764347 ]\n",
      " [-0.87609183  0.30259859]\n",
      " [-0.45058894  0.40980197]\n",
      " [-0.01943979  0.12687661]\n",
      " [-0.34174554 -0.23565382]\n",
      " [ 0.54322313  0.22779957]] [0 0 0 0 1 1 1 1]\n"
     ]
    }
   ],
   "source": [
    "X = np.random.uniform(-1, 1, size=(8,2))\n",
    "y_a = np.array([0, 0, 0, 0, 1, 1, 1, 1])\n",
    "y = y_a.reshape(-1, 1)\n",
    "plt.scatter(X[:, 0][y_a==0], X[:, 1][y_a==0], label=0)\n",
    "plt.scatter(X[:, 0][y_a==1], X[:, 1][y_a==1], label=1)\n",
    "plt.legend()\n",
    "plt.show()\n",
    "print(X, y_a)"
   ]
  },
  {
   "cell_type": "code",
   "execution_count": 774,
   "metadata": {},
   "outputs": [
    {
     "name": "stdout",
     "output_type": "stream",
     "text": [
      "[(-0.09198194,  0.0981303 , b'0') ( 0.93617818, -0.13420586, b'0')\n",
      " ( 0.02919202, -0.0764347 , b'0') (-0.87609183,  0.30259859, b'0')\n",
      " (-0.45058894,  0.40980197, b'1') (-0.01943979,  0.12687661, b'1')\n",
      " (-0.34174554, -0.23565382, b'1') ( 0.54322313,  0.22779957, b'1')]\n",
      "Dataset: nonseparable\n",
      "\ta1's type is numeric\n",
      "\ta2's type is numeric\n",
      "\tclass's type is nominal, range is ('0', '1')\n",
      "\n",
      "Maximum number of iterations reached.\n",
      "Final weights: [-0.0085904  0.0097415  0.       ]\n",
      "Accuracy: 0.62\n"
     ]
    },
    {
     "data": {
      "image/png": "[encoded data removed]",
      "text/plain": [
       "<Figure size 432x288 with 1 Axes>"
      ]
     },
     "metadata": {},
     "output_type": "display_data"
    }
   ],
   "source": [
    "data, meta = arff.loadarff(\"nonseparable.arff\")\n",
    "print(data)\n",
    "print(meta)\n",
    "X = np.stack([data['a1'], data['a2']]).T\n",
    "y_a = data['class'].astype(int)\n",
    "y = y_a.reshape(-1, 1)\n",
    "perceptron = PerceptronClassifier(lr=.01, shuffle=True)\n",
    "perceptron.fit(X, y)\n",
    "w = perceptron.get_weights()\n",
    "acc = perceptron.score(X, y)\n",
    "print(\"Final weights: {}\".format(w))\n",
    "print(\"Accuracy: {:.2f}\".format(acc))\n",
    "plt.scatter(X[:,0][y_a==0], X[:,1][y_a==0], label='0')\n",
    "plt.scatter(X[:,0][y_a==1], X[:,1][y_a==1], label='1')\n",
    "domain = np.linspace(-1, 1, 10)\n",
    "plt.plot(domain, -w[0]/w[1] * domain - w[2]/w[1])\n",
    "plt.legend()\n",
    "plt.xlabel(\"x1\")\n",
    "plt.ylabel(\"x2\")\n",
    "plt.title(\"Non-separable Dataset\")\n",
    "plt.show()"
   ]
  },
  {
   "cell_type": "code",
   "execution_count": 732,
   "metadata": {},
   "outputs": [
    {
     "name": "stdout",
     "output_type": "stream",
     "text": [
      "Classifer converged after 11 iterations.\n",
      "Classifer converged after 20 iterations.\n",
      "Classifer converged after 110 iterations.\n",
      "Maximum number of iterations reached.\n",
      "Maximum number of iterations reached.\n"
     ]
    }
   ],
   "source": [
    "for i in range(5):\n",
    "    perceptron = PerceptronClassifier(lr=10**(-i), shuffle=True)\n",
    "    perceptron.fit(X, y)"
   ]
  },
  {
   "cell_type": "markdown",
   "metadata": {},
   "source": [
    "# Voting data"
   ]
  },
  {
   "cell_type": "code",
   "execution_count": 791,
   "metadata": {},
   "outputs": [
    {
     "name": "stdout",
     "output_type": "stream",
     "text": [
      "(461, 16) (461, 1)\n",
      "(322, 16) (322, 1) (139, 16) (139, 1)\n"
     ]
    }
   ],
   "source": [
    "data, meta = arff.loadarff(\"voting.arff\")\n",
    "fields = []\n",
    "for n in data.dtype.fields.items():\n",
    "    fields.append(n[0])\n",
    "X = np.stack([data[f] for f in fields[:-1]]).T\n",
    "X = (X == b\"'y'\").astype(int)\n",
    "y = (data[fields[-1]]==b\"\\'republican'\").astype(int).reshape(-1, 1)\n",
    "X_train, y_train, X_test, y_test = train_test_split(X, y)\n",
    "print(X.shape, y.shape)\n",
    "print(X_train.shape, y_train.shape, X_test.shape, y_test.shape)"
   ]
  },
  {
   "cell_type": "code",
   "execution_count": 820,
   "metadata": {},
   "outputs": [
    {
     "name": "stdout",
     "output_type": "stream",
     "text": [
      "Trial 1\n",
      "Classifer converged after 40 iterations.\n",
      "Final weights: [ 0.3 -0.  -0.8  1.7  0.5 -0.3  0.5  1.1 -0.5  0.4 -1.1 -0.1  0.2 -0.1\n",
      " -0.6  0.4 -1.5]\n",
      "Accuracy: 0.9424\n",
      "\n",
      "Trial 2\n",
      "Classifer converged after 25 iterations.\n",
      "Final weights: [ 0.  -0.3 -0.5  1.6  0.4 -0.2  0.3  0.3 -0.7  0.5 -1.1  0.1 -0.1 -0.1\n",
      " -0.5  0.5 -1.1]\n",
      "Accuracy: 0.9353\n",
      "\n",
      "Trial 3\n",
      "Classifer converged after 8 iterations.\n",
      "Final weights: [-0.1 -0.3 -0.4  1.4  0.1 -0.3  0.2  0.4 -0.6  0.5 -0.8  0.   0.2  0.1\n",
      " -0.5  0.2 -0.6]\n",
      "Accuracy: 0.9568\n",
      "\n",
      "Trial 4\n",
      "Classifer converged after 48 iterations.\n",
      "Final weights: [ 0.3 -0.3 -0.7  1.9  0.1 -0.1  0.2  1.1 -0.6  0.5 -1.   0.3  0.  -0.2\n",
      " -0.9  0.3 -1.4]\n",
      "Accuracy: 0.9496\n",
      "\n",
      "Trial 5\n",
      "Classifer converged after 7 iterations.\n",
      "Final weights: [-0.  -0.1 -0.6  1.4  0.2 -0.   0.4  0.6 -0.3  0.3 -0.8  0.2  0.2  0.\n",
      " -0.5  0.4 -0.7]\n",
      "Accuracy: 0.8705\n",
      "\n"
     ]
    }
   ],
   "source": [
    "np.set_printoptions(precision=2, suppress=True)\n",
    "rates = []\n",
    "for i in range(5):\n",
    "    print(\"Trial {}\".format(i+1))\n",
    "    X_train, y_train, X_test, y_test = train_test_split(X, y)\n",
    "    perceptron = PerceptronClassifier(lr=.1, shuffle=True)\n",
    "    perceptron.fit(X_train, y_train)\n",
    "    w = perceptron.get_weights()\n",
    "    acc = perceptron.score(X_test, y_test)\n",
    "    print(\"Final weights: {}\".format(w))\n",
    "    print(\"Accuracy: {:.4f}\".format(acc))\n",
    "    rates.append(perceptron.rates)\n",
    "    print()"
   ]
  },
  {
   "cell_type": "code",
   "execution_count": 827,
   "metadata": {},
   "outputs": [],
   "source": [
    "ls = []\n",
    "for r in rates:\n",
    "    if len(r) > 36:\n",
    "        l = r[:36]\n",
    "    else:\n",
    "        l = r + [0]*(36 - len(r))\n",
    "    ls.append(l)\n",
    "ls = np.asarray(ls)"
   ]
  },
  {
   "cell_type": "code",
   "execution_count": 838,
   "metadata": {},
   "outputs": [],
   "source": [
    "aves = []\n",
    "for i in range(36):\n",
    "    a = 0\n",
    "    k = 0\n",
    "    for j in range(5):\n",
    "        if ls[j,i] > 0:\n",
    "            a += ls[j,i]\n",
    "            k += 1\n",
    "    a /= k\n",
    "    a = 1 - a\n",
    "    aves.append(a)"
   ]
  },
  {
   "cell_type": "code",
   "execution_count": 841,
   "metadata": {},
   "outputs": [
    {
     "data": {
      "image/png": "[encoded data removed]",
      "text/plain": [
       "<Figure size 432x288 with 1 Axes>"
      ]
     },
     "metadata": {},
     "output_type": "display_data"
    }
   ],
   "source": [
    "plt.plot(aves)\n",
    "plt.ylabel(\"Misclassification rate\")\n",
    "plt.xlabel(\"epochs\")\n",
    "plt.title(\"Average misclassification rate over epochs\")\n",
    "plt.show()"
   ]
  },
  {
   "cell_type": "markdown",
   "metadata": {},
   "source": [
    "## Scikit-learn"
   ]
  },
  {
   "cell_type": "code",
   "execution_count": 842,
   "metadata": {},
   "outputs": [],
   "source": [
    "from sklearn.linear_model import Perceptron\n",
    "from sklearn.datasets import load_digits\n",
    "X_train, y_train, X_test, y_test = train_test_split(X, y)"
   ]
  },
  {
   "cell_type": "code",
   "execution_count": 844,
   "metadata": {},
   "outputs": [
    {
     "name": "stdout",
     "output_type": "stream",
     "text": [
      "0.9712230215827338\n",
      "0.9640287769784173\n",
      "0.9136690647482014\n",
      "0.9064748201438849\n"
     ]
    }
   ],
   "source": [
    "perceptron = Perceptron()\n",
    "perceptron.fit(X_train, y_train.ravel())\n",
    "score = perceptron.score(X_test, y_test.ravel())\n",
    "print(score)\n",
    "\n",
    "perceptron = Perceptron(penalty='l2', alpha=.000001)\n",
    "perceptron.fit(X_train, y_train.ravel())\n",
    "score = perceptron.score(X_test, y_test.ravel())\n",
    "print(score)\n",
    "\n",
    "perceptron = Perceptron(penalty='l1', alpha=.001)\n",
    "perceptron.fit(X_train, y_train.ravel())\n",
    "score = perceptron.score(X_test, y_test.ravel())\n",
    "print(score)\n",
    "\n",
    "perceptron = Perceptron(eta0=1e-7)\n",
    "perceptron.fit(X_train, y_train.ravel())\n",
    "score = perceptron.score(X_test, y_test.ravel())\n",
    "print(score)"
   ]
  },
  {
   "cell_type": "code",
   "execution_count": 542,
   "metadata": {},
   "outputs": [
    {
     "name": "stdout",
     "output_type": "stream",
     "text": [
      "0.9462962962962963\n"
     ]
    }
   ],
   "source": [
    "X, y = load_digits(return_X_y=True)\n",
    "X_train, y_train, X_test, y_test = train_test_split(X, y.reshape(-1, 1))\n",
    "perceptron = Perceptron()\n",
    "perceptron.fit(X_train, y_train.ravel())\n",
    "score = perceptron.score(X_test, y_test.ravel())\n",
    "print(score)"
   ]
  },
  {
   "cell_type": "markdown",
   "metadata": {},
   "source": [
    "# Iris dataset"
   ]
  },
  {
   "cell_type": "code",
   "execution_count": 719,
   "metadata": {},
   "outputs": [],
   "source": [
    "class MulticlassPerceptron(BaseEstimator,ClassifierMixin):\n",
    "\n",
    "    def __init__(self, lr=.1, shuffle=True, maxiter=1000):\n",
    "        \"\"\" Initialize class with chosen hyperparameters.\n",
    "        Args:\n",
    "            lr (float): A learning rate / step size.\n",
    "            shuffle: Whether to shuffle the training data each epoch. DO NOT SHUFFLE for evaluation / debug datasets.\n",
    "        \"\"\"\n",
    "        self.lr = lr\n",
    "        self.shuffle = shuffle\n",
    "        self.delta = None\n",
    "        self.deltas = []\n",
    "        self.iteration = 0\n",
    "        self.maxiter = maxiter\n",
    "\n",
    "    def fit(self, X, y, initial_weights=None, deterministic=False):\n",
    "        \"\"\" Fit the data; run the algorithm and adjust the weights to find a good solution\n",
    "        Args:\n",
    "            X (array-like): A 2D numpy array with the training data, excluding targets\n",
    "            y (array-like): A 2D numpy array with the training targets\n",
    "            initial_weights (array-like): allows the user to provide initial weights\n",
    "        Returns:\n",
    "            self: this allows this to be chained, e.g. model.fit(X,y).predict(X_test)\n",
    "        \"\"\"\n",
    "        self.c = int(y.max()) + 1\n",
    "        self.k = X.shape[1]\n",
    "        self.initial_weights = self.initialize_weights() if not initial_weights else initial_weights\n",
    "        \n",
    "        self.weights = self.initial_weights.copy()\n",
    "        \n",
    "        if deterministic:\n",
    "            for i in range(deterministic):\n",
    "                self._epoch(X, y)\n",
    "                self.iteration += 1\n",
    "        else:\n",
    "            scale = max(np.abs(X).mean(axis=0))\n",
    "            eps = self.lr * scale\n",
    "            converged = True\n",
    "            for i in range(5):\n",
    "                self._epoch(X, y)\n",
    "                self.iteration += 1\n",
    "            while np.linalg.norm(self.deltas) > eps and self.iteration < 10 + 1/self.lr:\n",
    "                self._epoch(X, y)\n",
    "                self.iteration += 1\n",
    "                if self.iteration >= self.maxiter:\n",
    "                    converged = False\n",
    "                    break\n",
    "            if converged:\n",
    "                print(\"Classifer converged after {} iterations.\".format(self.iteration))\n",
    "            else:\n",
    "                print(\"Maximum number of iterations reached.\")\n",
    "        return self\n",
    "    \n",
    "    def _epoch(self, X, y):\n",
    "        \"\"\" \n",
    "        Run an epoch through the training dataset X, y\n",
    "        Args: \n",
    "            X (array-like): A 2D numpy array with the training data, excluding targets\n",
    "            y (array-like): A 2D numpy array with the training targets\n",
    "        \"\"\"\n",
    "        initial_weights = self.weights.copy()\n",
    "        if self.shuffle:\n",
    "            _X, _y = self._shuffle_data(X, y)\n",
    "        else:\n",
    "            _X, _y = X, y\n",
    "        for x,t in zip(_X, _y):\n",
    "            t_onehot = np.zeros(self.c)\n",
    "            t_onehot[int(t[0])] = 1\n",
    "            pattern = np.append(x, 1)\n",
    "            output = np.dot(self.weights, pattern).argmax()\n",
    "            output_onehot = np.zeros(self.c)\n",
    "            output_onehot[output] = 1\n",
    "            self.weights += self.lr * (t_onehot - output_onehot).reshape(-1, 1) * pattern\n",
    "        self.delta = np.abs(self.weights - initial_weights).max()\n",
    "        if len(self.deltas) < 5:\n",
    "            self.deltas.append(self.delta)\n",
    "        else:\n",
    "            self.deltas.pop(0)\n",
    "            self.deltas.append(self.delta)\n",
    "\n",
    "    def predict(self, X):\n",
    "        \"\"\" Predict all classes for a dataset X\n",
    "        Args:\n",
    "            X (array-like): A 2D numpy array with the training data, excluding targets\n",
    "        Returns:\n",
    "            array, shape (n_samples,)\n",
    "                Predicted target values per element in X.\n",
    "        \"\"\"\n",
    "        pred = []\n",
    "        for x in X:\n",
    "            pattern = np.append(x, 1)\n",
    "            output = np.dot(self.weights, pattern).argmax()\n",
    "            pred.append(output)\n",
    "        return np.array(pred).reshape(-1, 1)\n",
    "\n",
    "    def initialize_weights(self):\n",
    "        \"\"\" Initialize weights for perceptron. Don't forget the bias!\n",
    "        Returns:\n",
    "        \"\"\"\n",
    "\n",
    "        return np.zeros((self.c, self.k + 1))\n",
    "\n",
    "    def score(self, X, y):\n",
    "        \"\"\" Return accuracy of model on a given dataset. Must implement own score function.\n",
    "        Args:\n",
    "            X (array-like): A 2D numpy array with data, excluding targets\n",
    "            y (array-like): A 2D numpy array with targets\n",
    "        Returns:\n",
    "            score : float\n",
    "                Mean accuracy of self.predict(X) wrt. y.\n",
    "        \"\"\"\n",
    "        pred = self.predict(X)\n",
    "        return sum(pred==y)[0] / len(y)\n",
    "\n",
    "    def _shuffle_data(self, X, y):\n",
    "        \"\"\" Shuffle the data! This _ prefix suggests that this method should only be called internally.\n",
    "            It might be easier to concatenate X & y and shuffle a single 2D array, rather than\n",
    "             shuffling X and y exactly the same way, independently.\n",
    "        \"\"\"\n",
    "        Xy = np.hstack([X, y])\n",
    "        np.random.shuffle(Xy)\n",
    "        return Xy[:, :-1], Xy[:, -1].reshape(-1, 1)\n",
    "\n",
    "    ### Not required by sk-learn but required by us for grading. Returns the weights.\n",
    "    def get_weights(self):\n",
    "        return self.weights"
   ]
  },
  {
   "cell_type": "code",
   "execution_count": 856,
   "metadata": {},
   "outputs": [
    {
     "name": "stdout",
     "output_type": "stream",
     "text": [
      "Classifer converged after 20 iterations.\n",
      "Final weights: [[ 1.83  3.9  -5.25 -2.73  0.9 ]\n",
      " [ 2.15  0.25 -1.29 -3.55  1.8 ]\n",
      " [-3.98 -4.15  6.54  6.28 -2.7 ]]\n",
      "Accuracy: 0.9556\n"
     ]
    }
   ],
   "source": [
    "from sklearn.datasets import load_iris\n",
    "iris = load_iris()\n",
    "X = iris.data\n",
    "y = iris.target.reshape(-1, 1)\n",
    "X_train, y_train, X_test, y_test = train_test_split(X, y)\n",
    "perceptron = MulticlassPerceptron(lr=0.1)\n",
    "perceptron.fit(X_train, y_train)\n",
    "perceptron.get_weights()\n",
    "acc = perceptron.score(X_test, y_test)\n",
    "weights = perceptron.get_weights()\n",
    "print(\"Final weights: {}\".format(weights))\n",
    "print(\"Accuracy: {:.4f}\".format(acc))"
   ]
  },
  {
   "cell_type": "code",
   "execution_count": 849,
   "metadata": {},
   "outputs": [
    {
     "data": {
      "text/plain": [
       "45"
      ]
     },
     "execution_count": 849,
     "metadata": {},
     "output_type": "execute_result"
    }
   ],
   "source": [
    "len(X_test)"
   ]
  },
  {
   "cell_type": "code",
   "execution_count": null,
   "metadata": {},
   "outputs": [],
   "source": []
  }
 ],
 "metadata": {
  "kernelspec": {
   "display_name": "Python 3",
   "language": "python",
   "name": "python3"
  },
  "language_info": {
   "codemirror_mode": {
    "name": "ipython",
    "version": 3
   },
   "file_extension": ".py",
   "mimetype": "text/x-python",
   "name": "python",
   "nbconvert_exporter": "python",
   "pygments_lexer": "ipython3",
   "version": "3.6.8"
  }
 },
 "nbformat": 4,
 "nbformat_minor": 2
}
